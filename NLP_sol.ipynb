{
  "nbformat": 4,
  "nbformat_minor": 0,
  "metadata": {
    "colab": {
      "provenance": [],
      "gpuType": "T4"
    },
    "kernelspec": {
      "name": "python3",
      "display_name": "Python 3"
    },
    "language_info": {
      "name": "python"
    },
    "accelerator": "GPU"
  },
  "cells": [
    {
      "cell_type": "code",
      "source": [
        "import pandas as pd\n",
        "from transformers import pipeline\n",
        "from difflib import get_close_matches\n",
        "\n",
        "pipe = pipeline(\"text2text-generation\", model=\"google/flan-t5-large\")\n",
        "\n",
        "\n",
        "\n",
        "print(\"Loading knowledge base...\")\n",
        "try:\n",
        "    faq_df = pd.read_csv(\"medquad.csv\", engine=\"python\")\n",
        "\n",
        "    faq_dict = dict(zip(faq_df[\"question\"], faq_df[\"answer\"]))\n",
        "    print(f\"Knowledge base loaded with {len(faq_dict)} entries.\")\n",
        "except FileNotFoundError:\n",
        "    print(\"Error: medquad.csv not found. Please ensure it's in the correct directory.\")\n",
        "    faq_dict = {}\n",
        "\n",
        "def healthcare_chatbot(user_query):\n",
        "\n",
        "\n",
        "\n",
        "    cleaned_query = user_query.strip().lower()\n",
        "\n",
        "    questions = list(faq_dict.keys())\n",
        "    match = get_close_matches(cleaned_query, questions, n=1, cutoff=0.6)\n",
        "\n",
        "    if match and faq_dict:\n",
        "\n",
        "        response = faq_dict[match[0]]\n",
        "        source = \"FAQ Knowledge Base\"\n",
        "    else:\n",
        "\n",
        "        prompt = f\"Question: {user_query}\\nAnswer:\"\n",
        "\n",
        "        result = pipe(\n",
        "            prompt,\n",
        "            max_new_tokens=60,\n",
        "            do_sample=True,\n",
        "            temperature=0.7,\n",
        "            top_p=0.95,\n",
        "            repetition_penalty=1.2\n",
        "        )\n",
        "\n",
        "        response = result[0]['generated_text'].replace(prompt, \"\").strip()\n",
        "        source = \"BioGPT Model\"\n",
        "\n",
        "\n",
        "    return f\"🤖 ({source}): {response}\"\n",
        "\n",
        "\n",
        "\n"
      ],
      "metadata": {
        "colab": {
          "base_uri": "https://localhost:8080/"
        },
        "id": "RrFYQoLkaL1P",
        "outputId": "ae9a4831-324a-41e9-c365-0d733d4b661e"
      },
      "execution_count": 24,
      "outputs": [
        {
          "output_type": "stream",
          "name": "stderr",
          "text": [
            "Device set to use cpu\n"
          ]
        },
        {
          "output_type": "stream",
          "name": "stdout",
          "text": [
            "Loading knowledge base...\n",
            "Knowledge base loaded with 14984 entries.\n"
          ]
        }
      ]
    },
    {
      "cell_type": "code",
      "source": [
        "print(healthcare_chatbot(\"What are the treatments for Alcohol Use and Older Adults?\"))\n",
        "print(healthcare_chatbot(\"How much water should I drink daily?\"))"
      ],
      "metadata": {
        "colab": {
          "base_uri": "https://localhost:8080/"
        },
        "id": "mmRb8PvCau1h",
        "outputId": "4603a7ab-99bd-4c6c-d180-eec1dcbefded"
      },
      "execution_count": 25,
      "outputs": [
        {
          "output_type": "stream",
          "name": "stdout",
          "text": [
            "🤖 (FAQ Knowledge Base): Older people with alcohol problems respond to treatment as well as younger people. Some studies suggest that older adults do better when they are treated with other people the same age instead of mixed in with younger adults. Some communities have treatment programs and support groups specifically for older adults.\n",
            "🤖 (BioGPT Model): 8 glasses of water a day\n"
          ]
        }
      ]
    },
    {
      "cell_type": "code",
      "source": [
        "print(healthcare_chatbot(\"How offen should I exercise?\"))"
      ],
      "metadata": {
        "colab": {
          "base_uri": "https://localhost:8080/"
        },
        "id": "o-PFkvKGbE7N",
        "outputId": "9f9efa9a-2159-4b78-e3fe-ce0bae70ab74"
      },
      "execution_count": 26,
      "outputs": [
        {
          "output_type": "stream",
          "name": "stdout",
          "text": [
            "🤖 (BioGPT Model): 30 minutes a day\n"
          ]
        }
      ]
    },
    {
      "cell_type": "code",
      "source": [
        "print(healthcare_chatbot(\"When should I take paracetamol?\"))"
      ],
      "metadata": {
        "colab": {
          "base_uri": "https://localhost:8080/"
        },
        "id": "Ea3doLQvbIIc",
        "outputId": "1ef6f625-2a15-45b2-927f-13916b592fab"
      },
      "execution_count": 27,
      "outputs": [
        {
          "output_type": "stream",
          "name": "stdout",
          "text": [
            "🤖 (BioGPT Model): when you are feeling nauseous\n"
          ]
        }
      ]
    },
    {
      "cell_type": "code",
      "source": [
        "\n",
        "import textwrap\n",
        "\n",
        "print(\"Loading the FLAN-T5 model...\")\n",
        "\n",
        "pipe = pipeline(\"text2text-generation\", model=\"google/flan-t5-large\")\n",
        "\n",
        "\n",
        "example_queries = [\n",
        "    \"How can I improve my daily health?\",\n",
        "    \"What should I do if I'm feeling very stressed?\",\n",
        "    \"Is a vegetarian diet healthy?\",\n",
        "    \"How much should I exercise\"\n",
        "]\n",
        "\n",
        "\n",
        "for i, user_query in enumerate(example_queries):\n",
        "    print(\"\\n\" + \"=\"*80)\n",
        "    print(f\"--- EXAMPLE {i+1} ---\")\n",
        "    print(f\"User Question: \\\"{user_query}\\\"\")\n",
        "    print(\"=\"*80)\n",
        "\n",
        "\n",
        "    prompt_v1 = user_query\n",
        "\n",
        "    print(\"\\n--- [V1] Testing Basic Prompt ---\")\n",
        "    print(f\"Prompt: \\\"{prompt_v1}\\\"\")\n",
        "\n",
        "    try:\n",
        "        result_v1 = pipe(prompt_v1, max_new_tokens=100, repetition_penalty=1.3,\n",
        "                        do_sample=True, temperature=0.7)\n",
        "        response_v1 = result_v1[0]['generated_text']\n",
        "    except Exception as e:\n",
        "        response_v1 = f\"Error: {e}\"\n",
        "\n",
        "    print(f\"Response V1: {textwrap.fill(response_v1, width=80)}\")\n",
        "    print(\"-\" * 40)\n",
        "\n",
        "\n",
        "    if \"health\" in user_query.lower():\n",
        "        prompt_v2 = f\"Give 3 general health tips for: {user_query}\"\n",
        "    elif \"stress\" in user_query.lower():\n",
        "        prompt_v2 = f\"List 3 ways to manage: {user_query.replace('What should I do if', 'when')}\"\n",
        "    elif \"diet\" in user_query.lower() and \"healthy\" in user_query.lower():\n",
        "        prompt_v2 = f\"Explain pros and cons: {user_query}\"\n",
        "    else:\n",
        "        prompt_v2 = f\"Provide helpful advice: {user_query}\"\n",
        "\n",
        "    print(f\"\\n--- [V2] Testing Improved Prompt ---\")\n",
        "    print(f\"Prompt: \\\"{prompt_v2}\\\"\")\n",
        "\n",
        "    try:\n",
        "        result_v2 = pipe(prompt_v2, max_new_tokens=100, repetition_penalty=1.3,\n",
        "                        do_sample=True, temperature=0.7)\n",
        "        response_v2 = result_v2[0]['generated_text']\n",
        "    except Exception as e:\n",
        "        response_v2 = f\"Error: {e}\"\n",
        "\n",
        "    print(f\"Response V2: {textwrap.fill(response_v2, width=80)}\")\n",
        "    print(\"-\" * 40)\n",
        "\n",
        "    prompt_v3 = f\"Q: {user_query}\\nA: Here are some helpful suggestions:\"\n",
        "\n",
        "    print(f\"\\n--- [V3] Testing Question-Answer Format ---\")\n",
        "    print(f\"Prompt: \\\"{prompt_v3}\\\"\")\n",
        "\n",
        "    try:\n",
        "        result_v3 = pipe(prompt_v3, max_new_tokens=100, repetition_penalty=1.3,\n",
        "                        do_sample=True, temperature=0.7)\n",
        "        response_v3 = result_v3[0]['generated_text']\n",
        "    except Exception as e:\n",
        "        response_v3 = f\"Error: {e}\"\n",
        "\n",
        "    print(f\"Response V3: {textwrap.fill(response_v3, width=80)}\")\n",
        "    print(\"-\" * 40)\n",
        "\n",
        "\n",
        "\n"
      ],
      "metadata": {
        "colab": {
          "base_uri": "https://localhost:8080/"
        },
        "id": "52WlrmFEbvbl",
        "outputId": "2bdc7a96-5c94-4e68-b5c4-70f19ae08b56"
      },
      "execution_count": 28,
      "outputs": [
        {
          "output_type": "stream",
          "name": "stdout",
          "text": [
            "Loading the FLAN-T5 model...\n"
          ]
        },
        {
          "output_type": "stream",
          "name": "stderr",
          "text": [
            "Device set to use cpu\n"
          ]
        },
        {
          "output_type": "stream",
          "name": "stdout",
          "text": [
            "\n",
            "================================================================================\n",
            "--- EXAMPLE 1 ---\n",
            "User Question: \"How can I improve my daily health?\"\n",
            "================================================================================\n",
            "\n",
            "--- [V1] Testing Basic Prompt ---\n",
            "Prompt: \"How can I improve my daily health?\"\n",
            "Response V1: Eat more fruits and vegetables.\n",
            "----------------------------------------\n",
            "\n",
            "--- [V2] Testing Improved Prompt ---\n",
            "Prompt: \"Give 3 general health tips for: How can I improve my daily health?\"\n",
            "Response V2: Eat a balanced diet. Exercise at least 30 minutes a day.\n",
            "----------------------------------------\n",
            "\n",
            "--- [V3] Testing Question-Answer Format ---\n",
            "Prompt: \"Q: How can I improve my daily health?\n",
            "A: Here are some helpful suggestions:\"\n",
            "Response V3: Eat more fruits and vegetables.\n",
            "----------------------------------------\n",
            "\n",
            "================================================================================\n",
            "--- EXAMPLE 2 ---\n",
            "User Question: \"What should I do if I'm feeling very stressed?\"\n",
            "================================================================================\n",
            "\n",
            "--- [V1] Testing Basic Prompt ---\n",
            "Prompt: \"What should I do if I'm feeling very stressed?\"\n",
            "Response V1: Take a deep breath and take a deep breath.\n",
            "----------------------------------------\n",
            "\n",
            "--- [V2] Testing Improved Prompt ---\n",
            "Prompt: \"List 3 ways to manage: when I'm feeling very stressed?\"\n",
            "Response V2: eat a banana, take a hot shower, or take a bath.\n",
            "----------------------------------------\n",
            "\n",
            "--- [V3] Testing Question-Answer Format ---\n",
            "Prompt: \"Q: What should I do if I'm feeling very stressed?\n",
            "A: Here are some helpful suggestions:\"\n",
            "Response V3: If you're feeling stressed, take a few deep breaths to calm yourself down.\n",
            "----------------------------------------\n",
            "\n",
            "================================================================================\n",
            "--- EXAMPLE 3 ---\n",
            "User Question: \"Is a vegetarian diet healthy?\"\n",
            "================================================================================\n",
            "\n",
            "--- [V1] Testing Basic Prompt ---\n",
            "Prompt: \"Is a vegetarian diet healthy?\"\n",
            "Response V1: yes\n",
            "----------------------------------------\n",
            "\n",
            "--- [V2] Testing Improved Prompt ---\n",
            "Prompt: \"Give 3 general health tips for: Is a vegetarian diet healthy?\"\n",
            "Response V2: Vegetarian diets are low in saturated fat, cholesterol, and sodium. Vegetables\n",
            "are high in fiber, vitamins, minerals, and phytonutrients. Vegetables are low in\n",
            "saturated fat, cholesterol, and sodium. Vegetables are high in fiber, vitamins,\n",
            "minerals, and phytonutrients. Vegetables are low in saturated fat, cholesterol,\n",
            "and sodium. Vegetables are high in fiber, vitamins, minerals, and phytonutri\n",
            "----------------------------------------\n",
            "\n",
            "--- [V3] Testing Question-Answer Format ---\n",
            "Prompt: \"Q: Is a vegetarian diet healthy?\n",
            "A: Here are some helpful suggestions:\"\n",
            "Response V3: Vegetarianism is a low-carbohydrate, low-fat, low-sugar, low-fat, low-\n",
            "carbohydrate, low-fat, low-sugar, low-fat, low-carbohydrate, low-fat, low-\n",
            "carbohydrate, low-fat, low-carbohydrate, low-fat, low-carbohydrate, low-fat,\n",
            "low-carbohydrate,\n",
            "----------------------------------------\n",
            "\n",
            "================================================================================\n",
            "--- EXAMPLE 4 ---\n",
            "User Question: \"How much should I exercise\"\n",
            "================================================================================\n",
            "\n",
            "--- [V1] Testing Basic Prompt ---\n",
            "Prompt: \"How much should I exercise\"\n",
            "Response V1: 1 pound per week\n",
            "----------------------------------------\n",
            "\n",
            "--- [V2] Testing Improved Prompt ---\n",
            "Prompt: \"Provide helpful advice: How much should I exercise\"\n",
            "Response V2: If you want to lose weight, you should exercise at least 30 minutes a day.\n",
            "----------------------------------------\n",
            "\n",
            "--- [V3] Testing Question-Answer Format ---\n",
            "Prompt: \"Q: How much should I exercise\n",
            "A: Here are some helpful suggestions:\"\n",
            "Response V3: If you are looking to get in shape, you should aim for at least 30 minutes of\n",
            "moderate intensity exercise each week.\n",
            "----------------------------------------\n"
          ]
        }
      ]
    },
    {
      "cell_type": "code",
      "source": [],
      "metadata": {
        "id": "eL1OUHCNfDnY"
      },
      "execution_count": 28,
      "outputs": []
    },
    {
      "cell_type": "markdown",
      "source": [
        "## Inference Optimization"
      ],
      "metadata": {
        "id": "MZcDrLk7ixdv"
      }
    },
    {
      "cell_type": "code",
      "source": [
        "\n",
        "import gradio as gr\n",
        "import pandas as pd\n",
        "from difflib import get_close_matches\n",
        "import os\n",
        "\n",
        "\n",
        "print(\"Loading text generation model (google/flan-t5-large)...\")\n",
        "\n",
        "try:\n",
        "    pipe = pipeline(\"text2text-generation\", model=\"google/flan-t5-large\")\n",
        "    print(\"✅ Model loaded successfully.\")\n",
        "except Exception as e:\n",
        "    print(f\"🔥 Error loading model: {e}\")\n",
        "    pipe = None\n",
        "\n",
        "print(\"Loading knowledge base from medquad.csv...\")\n",
        "faq_dict = {}\n",
        "if os.path.exists(\"medquad.csv\"):\n",
        "    try:\n",
        "        faq_df = pd.read_csv(\"medquad.csv\", engine=\"python\")\n",
        "\n",
        "        faq_dict = dict(zip(faq_df[\"question\"], faq_df[\"answer\"]))\n",
        "        print(f\"✅ Knowledge base loaded with {len(faq_dict)} entries.\")\n",
        "    except Exception as e:\n",
        "        print(f\"🔥 Error loading or parsing medquad.csv: {e}\")\n",
        "else:\n",
        "    print(\"⚠️ Warning: medquad.csv not found. The chatbot will rely solely on the AI model.\")\n",
        "\n",
        "\n",
        "\n",
        "\n",
        "def healthcare_chatbot(user_query):\n",
        "\n",
        "\n",
        "    if pipe is None:\n",
        "        return \"Sorry, the AI model could not be loaded. Please check the terminal for errors.\"\n",
        "\n",
        "\n",
        "    if not user_query or not user_query.strip():\n",
        "        return \"Please ask a question.\"\n",
        "\n",
        "    cleaned_query = user_query.strip().lower()\n",
        "\n",
        "\n",
        "    if faq_dict:\n",
        "        questions = list(faq_dict.keys())\n",
        "\n",
        "        match = get_close_matches(cleaned_query, questions, n=1, cutoff=0.6)\n",
        "\n",
        "        if match:\n",
        "            response = faq_dict[match[0]]\n",
        "            source = \"FAQ Knowledge Base\"\n",
        "            return f\"✅ **Answer from {source}:**\\n\\n{response}\"\n",
        "\n",
        "\n",
        "    prompt = f\"Question: {user_query}\\nAnswer:\"\n",
        "    try:\n",
        "        result = pipe(\n",
        "            prompt,\n",
        "            max_new_tokens=150,\n",
        "            do_sample=True,\n",
        "            temperature=0.7,\n",
        "            top_p=0.95\n",
        "        )\n",
        "        response = result[0]['generated_text']\n",
        "        source = \"AI Model (FLAN-T5)\"\n",
        "        return f\"🤖 **Answer from {source}:**\\n\\n{response}\"\n",
        "    except Exception as e:\n",
        "        return f\"Sorry, there was an error communicating with the AI model: {e}\"\n",
        "\n",
        "\n",
        "\n",
        "\n",
        "print(\"Creating Gradio interface...\")\n",
        "\n",
        "# We use a multi-line string with a bit of HTML for better formatting and emphasis.\n",
        "interface_description = \"\"\"\n",
        "**Ask a health-related question.** This tool provides information by checking a local knowledge base (MedQuAD) and consulting the FLAN-T5 AI model if needed.\n",
        "<br>\n",
        "<p style='text-align: center; color: red; font-weight: bold;'>\n",
        "Disclaimer: This is for educational purposes only and not a substitute for professional medical advice.\n",
        "</p>\n",
        "\"\"\"\n",
        "\n",
        "iface = gr.Interface(\n",
        "    fn=healthcare_chatbot,\n",
        "    inputs=gr.Textbox(lines=4, label=\"Your Question\", placeholder=\"e.g., What are the treatments for Alcohol Use and Older Adults?\"),\n",
        "    outputs=gr.Textbox(label=\"Chatbot Response\"),\n",
        "    title=\"🩺 Healthcare Information Assistant\",\n",
        "    description=interface_description,\n",
        "    theme=gr.themes.Soft(),\n",
        "    allow_flagging=\"never\"\n",
        ")\n",
        "\n",
        "print(\"Launching Gradio app... Open the URL in your browser.\")\n",
        "iface.launch()"
      ],
      "metadata": {
        "id": "pIfC4LWckdlq",
        "colab": {
          "base_uri": "https://localhost:8080/",
          "height": 796
        },
        "outputId": "5f4edf0f-258a-4b1d-a85f-3e2e5ed2bc27"
      },
      "execution_count": 29,
      "outputs": [
        {
          "output_type": "stream",
          "name": "stdout",
          "text": [
            "Loading text generation model (google/flan-t5-large)...\n"
          ]
        },
        {
          "output_type": "stream",
          "name": "stderr",
          "text": [
            "Device set to use cpu\n"
          ]
        },
        {
          "output_type": "stream",
          "name": "stdout",
          "text": [
            "✅ Model loaded successfully.\n",
            "Loading knowledge base from medquad.csv...\n",
            "✅ Knowledge base loaded with 14984 entries.\n",
            "Creating Gradio interface...\n"
          ]
        },
        {
          "output_type": "stream",
          "name": "stderr",
          "text": [
            "/usr/local/lib/python3.12/dist-packages/gradio/interface.py:414: UserWarning: The `allow_flagging` parameter in `Interface` is deprecated. Use `flagging_mode` instead.\n",
            "  warnings.warn(\n"
          ]
        },
        {
          "output_type": "stream",
          "name": "stdout",
          "text": [
            "Launching Gradio app... Open the URL in your browser.\n",
            "It looks like you are running Gradio on a hosted Jupyter notebook, which requires `share=True`. Automatically setting `share=True` (you can turn this off by setting `share=False` in `launch()` explicitly).\n",
            "\n",
            "Colab notebook detected. To show errors in colab notebook, set debug=True in launch()\n",
            "* Running on public URL: https://2b2f5a54b4cd850fb6.gradio.live\n",
            "\n",
            "This share link expires in 1 week. For free permanent hosting and GPU upgrades, run `gradio deploy` from the terminal in the working directory to deploy to Hugging Face Spaces (https://huggingface.co/spaces)\n"
          ]
        },
        {
          "output_type": "display_data",
          "data": {
            "text/plain": [
              "<IPython.core.display.HTML object>"
            ],
            "text/html": [
              "<div><iframe src=\"https://2b2f5a54b4cd850fb6.gradio.live\" width=\"100%\" height=\"500\" allow=\"autoplay; camera; microphone; clipboard-read; clipboard-write;\" frameborder=\"0\" allowfullscreen></iframe></div>"
            ]
          },
          "metadata": {}
        },
        {
          "output_type": "execute_result",
          "data": {
            "text/plain": []
          },
          "metadata": {},
          "execution_count": 29
        }
      ]
    },
    {
      "cell_type": "code",
      "source": [],
      "metadata": {
        "id": "NWHm5liRm26H"
      },
      "execution_count": 29,
      "outputs": []
    }
  ]
}